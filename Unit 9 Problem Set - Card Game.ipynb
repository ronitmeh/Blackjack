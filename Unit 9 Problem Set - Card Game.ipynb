{
 "cells": [
  {
   "cell_type": "markdown",
   "metadata": {
    "collapsed": false
   },
   "source": [
    "# Unit 9 Problem Set\n",
    "\n",
    "In this problem set we will build a set of classes that will be used to play the card game Blackjack. If you have never played, then you can [find the rules and watch some game scenarios](https://www.youtube.com/watch?v=0-XIjDr33Mo)"
   ]
  },
  {
   "cell_type": "markdown",
   "metadata": {
    "collapsed": false
   },
   "source": [
    "## The Card class"
   ]
  },
  {
   "cell_type": "markdown",
   "metadata": {
    "collapsed": false
   },
   "source": [
    "1.Think about a deck of cards. What do you need to know in order to tell one card from another? \n",
    "\n",
    "There are thirteen different ranks, from Ace to King. There are four different suits: Clubs, Diamonds, Hearts, and Spades. So, to know everything about a single card you need its rank and its suit. In card games such as blackjack, where the cards are worth a certain number of points, it is also helpful to have a third variable, called value that is an integer related to a card's rank. The values of the cards are [2,3,4,5,6,7,8,9,10,10,10,10,11], respectively (meaning, the Jack, King, Queen, and 10 have a value of 10 and the Ace has a value of 11 or sometimes 1).\n",
    "\n",
    "Create a **class** named **Card**. Include three **attributes**: **rank** and **suit** (both strings) and **value** (int). Don't forget the initializing (`__init__`) and the toString (`__str__`) methods.\n",
    "\n",
    "You may also want to add a `__repr__` method so a list of cards will display nicely.\n",
    "\n",
    "Test that you can create a few cards. Make several instances of different cards: try Ace of Spades and Eight of Hearts. "
   ]
  },
  {
   "cell_type": "code",
   "execution_count": 1,
   "metadata": {
    "collapsed": false
   },
   "outputs": [
   ],
   "source": [
    "betting = open('bets.txt', 'w')\n",
    "betting.write('1000')\n",
    "betting.close()"
   ]
  },
  {
   "cell_type": "code",
   "execution_count": 2,
   "metadata": {
    "collapsed": false
   },
   "outputs": [
    {
     "name": "stdout",
     "output_type": "stream",
     "text": [
      "Queen of Spades\n",
      "Ten of Clubs\n"
     ]
    }
   ],
   "source": [
    "class Card:\n",
    "    \n",
    "    def __init__(self, rank: str, suit: str, value: str):\n",
    "        self.rank = rank\n",
    "        self.suit = suit\n",
    "        self.value = value\n",
    "    \n",
    "    def __repr__(self):\n",
    "        return f'{self.rank.title()} {self.suit.title()}'\n",
    "    \n",
    "    def __str__(self):\n",
    "        return f'{self.rank.title()} of {self.suit.title()}'\n",
    "\n",
    "e = Card('Queen', 'Spades', 10)\n",
    "r = Card('Ten', 'Clubs', 10)   \n",
    "print(e)\n",
    "print(r)"
   ]
  },
  {
   "cell_type": "markdown",
   "metadata": {
    "collapsed": false
   },
   "source": [
    "## The Deck class"
   ]
  },
  {
   "cell_type": "markdown",
   "metadata": {
    "collapsed": false
   },
   "source": [
    "2.A typical deck of cards has one of each rank in one of each suit, for a total of 52 cards. Create a **class** named **Deck**. The **attribute** of our Deck class will be a single list of 52 Card objects named **cards**.\n",
    "\n",
    "To do this, you will need to send three lists to the initializing method as input: ranks, suits, and values. Then use a double for-loop to create the Cards (by calling the initializing method of the Card Class) and append them to the list called cards. To help, here are three lists that you can copy and paste in your code below:\n",
    "\n",
    "ranks = ['Two','Three','Four','Five','Six','Seven','Eight','Nine','Ten','Jack','Queen','King','Ace']\n",
    "\n",
    "suits = ['Clubs', 'Diamonds', 'Hearts', 'Spades']\n",
    "\n",
    "values = [2, 3, 4, 5, 6, 7, 8, 9, 10, 10, 10, 10 , 11]"
   ]
  },
  {
   "cell_type": "code",
   "execution_count": 3,
   "metadata": {
    "collapsed": false
   },
   "outputs": [
    {
     "name": "stdout",
     "output_type": "stream",
     "text": [
      "[Two Clubs, Three Clubs, Four Clubs, Five Clubs, Six Clubs, Seven Clubs, Eight Clubs, Nine Clubs, Ten Clubs, Jack Clubs, Queen Clubs, King Clubs, Ace Clubs, Two Diamonds, Three Diamonds, Four Diamonds, Five Diamonds, Six Diamonds, Seven Diamonds, Eight Diamonds, Nine Diamonds, Ten Diamonds, Jack Diamonds, Queen Diamonds, King Diamonds, Ace Diamonds, Two Hearts, Three Hearts, Four Hearts, Five Hearts, Six Hearts, Seven Hearts, Eight Hearts, Nine Hearts, Ten Hearts, Jack Hearts, Queen Hearts, King Hearts, Ace Hearts, Two Spades, Three Spades, Four Spades, Five Spades, Six Spades, Seven Spades, Eight Spades, Nine Spades, Ten Spades, Jack Spades, Queen Spades, King Spades, Ace Spades]\n",
      "2\n",
      "3\n",
      "4\n",
      "5\n",
      "6\n",
      "7\n",
      "8\n",
      "9\n",
      "10\n",
      "10\n",
      "10\n",
      "10\n",
      "11\n",
      "2\n",
      "3\n",
      "4\n",
      "5\n",
      "6\n",
      "7\n",
      "8\n",
      "9\n",
      "10\n",
      "10\n",
      "10\n",
      "10\n",
      "11\n",
      "2\n",
      "3\n",
      "4\n",
      "5\n",
      "6\n",
      "7\n",
      "8\n",
      "9\n",
      "10\n",
      "10\n",
      "10\n",
      "10\n",
      "11\n",
      "2\n",
      "3\n",
      "4\n",
      "5\n",
      "6\n",
      "7\n",
      "8\n",
      "9\n",
      "10\n",
      "10\n",
      "10\n",
      "10\n",
      "11\n"
     ]
    }
   ],
   "source": [
    "\n",
    "\n",
    "class Deck:\n",
    "\n",
    "    def __init__(self):\n",
    "        ranks = ['Two','Three','Four','Five','Six','Seven','Eight','Nine','Ten','Jack','Queen','King','Ace']\n",
    "        suits = ['Clubs', 'Diamonds', 'Hearts', 'Spades']\n",
    "        values = [2, 3, 4, 5, 6, 7, 8, 9, 10, 10, 10, 10 , 11]\n",
    "        self.cards = []\n",
    "        for suit in suits:\n",
    "            for i in range(0,13):\n",
    "                self.cards.append(Card(ranks[i],suit,values[i]))\n",
    "    \n",
    "    def __str__(self):\n",
    "        return \"\\n\".join(self.cards)\n",
    "\n",
    "e = Deck()\n",
    "print(e.cards)\n",
    "for card in e.cards:\n",
    "    print(card.value)"
   ]
  },
  {
   "cell_type": "markdown",
   "metadata": {
    "collapsed": false
   },
   "source": [
    "3.One obvious **method** that you will need is a **shuffle()** method that shuffles the deck **in place**. This method should reorder the deck randomly. There are many ways to do this, but luckily, the Python random package has a shuffle method built in that shuffles a list in place! \n",
    "\n",
    "Finally, create a method called **get_top_card()**. This method should **return** the card with index 0, and remove it from the deck **in place**."
   ]
  },
  {
   "cell_type": "code",
   "execution_count": 4,
   "metadata": {
    "collapsed": false
   },
   "outputs": [
    {
     "name": "stdout",
     "output_type": "stream",
     "text": [
      "There are 52 cards left in the deck\n",
      "There are 52 cards left in the deck\n",
      "Two of Hearts\n",
      "There are 51 cards left in the deck\n",
      "Nine of Spades\n",
      "There are 50 cards left in the deck\n"
     ]
    }
   ],
   "source": [
    "import random\n",
    "class Deck:\n",
    "\n",
    "\n",
    "\n",
    "    def __init__(self):\n",
    "        ranks = ['Two','Three','Four','Five','Six','Seven','Eight','Nine','Ten','Jack','Queen','King','Ace']\n",
    "        suits = ['Clubs', 'Diamonds', 'Hearts', 'Spades']\n",
    "        values = [2, 3, 4, 5, 6, 7, 8, 9, 10, 10, 10, 10 , 11]\n",
    "        self.cards = []\n",
    "        for suit in suits:\n",
    "            for i in range(0,13):\n",
    "                self.cards.append(Card(ranks[i],suit,values[i]))\n",
    "    \n",
    "    def __str__(self):\n",
    "        return f'There are {len(self.cards)} cards left in the deck'\n",
    "    \n",
    "    def shuffle(self):\n",
    "        random.shuffle(self.cards)\n",
    "    \n",
    "    def get_top_card(self):\n",
    "        r = self.cards.pop(0)\n",
    "        return r\n",
    "    \n",
    "\n",
    "b = Deck()\n",
    "print(b)\n",
    "b.shuffle()\n",
    "print(b)\n",
    "print(b.get_top_card())\n",
    "print(b)\n",
    "print(b.get_top_card())\n",
    "print(b)"
   ]
  },
  {
   "cell_type": "markdown",
   "metadata": {
    "collapsed": false
   },
   "source": [
    "4.Use the cell below to test your deck method. Hint: check the length of your deck to make sure that the get_top_card method is removing a card from the deck. Also check that your deck is getting randomly shuffled. Insert some test code below."
   ]
  },
  {
   "cell_type": "code",
   "execution_count": 5,
   "metadata": {
    "collapsed": false
   },
   "outputs": [
   ],
   "source": [
    "#see above"
   ]
  },
  {
   "cell_type": "markdown",
   "metadata": {
    "collapsed": false
   },
   "source": [
    "### The HAND class\n",
    "\n",
    "5. Now that you have a card class, and a DECK class that can create, shuffle and get a card from a deck, it would be useful be able to create a HAND class so you can have different players holding the certain cards from the deck in their hand.\n",
    "\n",
    "Your Hand class should have the following methods:\n",
    "\n",
    "```\n",
    "get_tally (returns the blackjack tally of the points in the hand)\n",
    "add_card (adds a card to the hand)\n",
    "__str__\n",
    "```\n",
    "\n",
    "The `__str__` method should print all the cards in the hand.\n",
    "\n",
    "  "
   ]
  },
  {
   "cell_type": "code",
   "execution_count": 22,
   "metadata": {
    "collapsed": false
   },
   "outputs": [
    {
     "name": "stdout",
     "output_type": "stream",
     "text": [
      " 🃒 🃍\n",
      "12\n"
     ]
    }
   ],
   "source": [
    "# insert your code for 5 here \n",
    "deckofcards = Deck()\n",
    "\n",
    "g = {'Clubs': ['\\U0001F0D1', '\\U0001F0D2', '\\U0001F0D3', '\\U0001F0D4', '\\U0001F0D5', '\\U0001F0D6', '\\U0001F0D7', '\\U0001F0D8', '\\U0001F0D9', '\\U0001F0DA', '\\U0001F0DB', '\\U0001F0DC', '\\U0001F0DD', '\\U0001F0DE'], \n",
    "     'Spades': ['\\U0001F0A1', '\\U0001F0A2', '\\U0001F0A3', '\\U0001F0A4', '\\U0001F0A5', '\\U0001F0A6', '\\U0001F0A7', '\\U0001F0A8', '\\U0001F0A9', '\\U0001F0AA', '\\U0001F0AB', '\\U0001F0AC', '\\U0001F0AD', '\\U0001F0AE'], \n",
    "     'Hearts': ['\\U0001F0B1', '\\U0001F0B2', '\\U0001F0B3', '\\U0001F0B4', '\\U0001F0B5', '\\U0001F0B6', '\\U0001F0B7', '\\U0001F0B8', '\\U0001F0B9', '\\U0001F0BA', '\\U0001F0BB', '\\U0001F0BC', '\\U0001F0BD', '\\U0001F0BE'], \n",
    "     'Diamonds': ['\\U0001F0C1', '\\U0001F0C2', '\\U0001F0C3', '\\U0001F0C4', '\\U0001F0C5','\\U0001F0C6', '\\U0001F0C7', '\\U0001F0C8', '\\U0001F0C9', '\\U0001F0CA', '\\U0001F0CB', '\\U0001F0CC', '\\U0001F0CD', '\\U0001F0CE']}\n",
    "\n",
    "\n",
    "class Hand():\n",
    "    \n",
    "    def __init__(self):\n",
    "        self.hand = []\n",
    "        self.deck = deckofcards\n",
    "    \n",
    "    def add_card(self):\n",
    "        self.hand.append(self.deck.get_top_card())\n",
    "    \n",
    "    def get_tally(self):\n",
    "        total = 0\n",
    "        for card in self.hand:\n",
    "            total += card.value\n",
    "        return total\n",
    "    \n",
    "    \n",
    "    def __str__(self):\n",
    "        phrase = ''\n",
    "        for card in self.hand:\n",
    "            if card.value in range(2,10):\n",
    "                phrase += f' {g[card.suit][card.value-1]}'\n",
    "            if card.rank == 'Ten':\n",
    "                phrase += f' {g[card.suit][9]}'\n",
    "            if card.rank == 'Ace':\n",
    "                phrase += f' {g[card.suit][0]}'\n",
    "            if card.rank == 'Jack':\n",
    "                phrase += f' {g[card.suit][10]}'\n",
    "            if card.rank == 'Queen':\n",
    "                phrase += f' {g[card.suit][11]}'\n",
    "            if card.rank == 'King':\n",
    "                phrase += f' {g[card.suit][12]}'\n",
    "        return phrase\n",
    "    \n",
    "    def check_bust(self):\n",
    "        if self.get_tally() > 21:\n",
    "            return True\n",
    "        else:\n",
    "            return False\n",
    "\n",
    "r = Hand()\n",
    "r.add_card()\n",
    "deckofcards.shuffle()\n",
    "r.add_card()\n",
    "print(r)\n",
    "print(r.get_tally())"
   ]
  },
  {
   "cell_type": "markdown",
   "metadata": {
    "collapsed": false
   },
   "source": [
    "## The Blackjack class"
   ]
  },
  {
   "cell_type": "markdown",
   "metadata": {
    "collapsed": false
   },
   "source": [
    "When a 'single' program is built from several classes, it is common to have a runner class that is not intended to create objects. We will name our **runner class**, **Blackjack**. Since the blackjack class only be running the game, this class will not need an initializing `__init__` method. \n",
    "\n",
    "We will need **methods** as follows (notice that they are named so that anyone will know what they do):\n",
    "\n",
    "**player_turn()**, **computer_turn()**, **deal()**, **check_bust()**, **check_blackjack()**, **find_winner()**, and finally a **main** method to control the order of when methods will be called. See below for an outline of the main method. Your job is to finish the main and write the rest of the methods.\n",
    "\n",
    "**NOTE**:  The methods in this class are only a suggestion.  There are other ways to do this, especially if you make use of the Hand Class above.  The important part is that you have a working game of BlackJack between you and the computer when this cell is run."
   ]
  },
  {
   "cell_type": "code",
   "execution_count": 1,
   "metadata": {
    "cocalc": {
     "outputs": {
      "1": {
       "name": "input",
       "opts": {
        "password": false,
        "prompt": "Would you like to update your balance? Yes/No"
       },
       "output_type": "stream",
       "value": "No"
      },
      "2": {
       "name": "input",
       "opts": {
        "password": false,
        "prompt": "Would you like to make a bet? Yes/No"
       },
       "output_type": "stream",
       "value": "Yes"
      },
      "3": {
       "name": "input",
       "opts": {
        "password": false,
        "prompt": "How much?"
       },
       "output_type": "stream",
       "value": "2"
      },
      "4": {
       "name": "input",
       "opts": {
        "password": false,
        "prompt": "Would you like to hit or stay?"
       },
       "output_type": "stream"
      },
      "5": {
       "name": "input",
       "opts": {
        "password": false,
        "prompt": "Would you like to hit or stay?"
       },
       "output_type": "stream",
       "value": "stay"
      }
     }
    },
    "collapsed": false
   },
   "outputs": [
    {
     "name": "stdout",
     "output_type": "stream",
     "text": [
      "\n",
      "\n",
      "           -------------------------------------------------\n",
      "          |   _     _            _    _            _        |\n",
      "          |  | |   | |          | |  (_)          | |       |\n",
      "          |  | |__ | | __ _  ___| | ___  __ _  ___| | __    |\n",
      "          |  | '_ \\| |/ _` |/ __| |/ / |/ _` |/ __| |/ /    |\n",
      "          |  | |_) | | (_| | (__|   <| | (_| | (__|   <     |\n",
      "          |  |_.__/|_|\\__,_|\\___|_|\\_\\ |\\__,_|\\___|_|\\_\\    |\n",
      "          |                         _/ |                    |\n",
      "          |                        |__/                     |\n",
      "           -------------------------------------------------\n",
      "            \n",
      "Your balance: 3\n"
     ]
    },
    {
     "name": "stdout",
     "output_type": "stream",
     "text": "Would you like to update your balance? Yes/No No"
    },
    {
     "name": "stdout",
     "output_type": "stream",
     "text": "Would you like to make a bet? Yes/No Yes"
    },
    {
     "name": "stdout",
     "output_type": "stream",
     "text": "How much? 2"
    },
    {
     "ename": "NameError",
     "evalue": "name 'Deck' is not defined",
     "output_type": "error",
     "traceback": [
      "\u001b[0;31m---------------------------------------------------------------------------\u001b[0m",
      "\u001b[0;31mNameError\u001b[0m                                 Traceback (most recent call last)",
      "\u001b[0;32m/tmp/ipykernel_369/4043784888.py\u001b[0m in \u001b[0;36m<cell line: 158>\u001b[0;34m()\u001b[0m\n\u001b[1;32m    157\u001b[0m \u001b[0;31m# run the main program\u001b[0m\u001b[0;34m\u001b[0m\u001b[0;34m\u001b[0m\u001b[0;34m\u001b[0m\u001b[0m\n\u001b[1;32m    158\u001b[0m \u001b[0;32mif\u001b[0m \u001b[0m__name__\u001b[0m \u001b[0;34m==\u001b[0m \u001b[0;34m'__main__'\u001b[0m\u001b[0;34m:\u001b[0m\u001b[0;34m\u001b[0m\u001b[0;34m\u001b[0m\u001b[0m\n\u001b[0;32m--> 159\u001b[0;31m     \u001b[0mBlackjack\u001b[0m\u001b[0;34m(\u001b[0m\u001b[0;34m)\u001b[0m\u001b[0;34m.\u001b[0m\u001b[0mmain\u001b[0m\u001b[0;34m(\u001b[0m\u001b[0;34m)\u001b[0m\u001b[0;34m\u001b[0m\u001b[0;34m\u001b[0m\u001b[0m\n\u001b[0m",
      "\u001b[0;32m/tmp/ipykernel_369/4043784888.py\u001b[0m in \u001b[0;36mmain\u001b[0;34m(self)\u001b[0m\n\u001b[1;32m    128\u001b[0m                 \u001b[0mmoney\u001b[0m \u001b[0;34m=\u001b[0m \u001b[0minput\u001b[0m\u001b[0;34m(\u001b[0m\u001b[0;34m'You cannot bet that amount. Please reenter a bet.'\u001b[0m\u001b[0;34m)\u001b[0m\u001b[0;34m\u001b[0m\u001b[0;34m\u001b[0m\u001b[0m\n\u001b[1;32m    129\u001b[0m             \u001b[0;31m# create a deck object\u001b[0m\u001b[0;34m\u001b[0m\u001b[0;34m\u001b[0m\u001b[0;34m\u001b[0m\u001b[0m\n\u001b[0;32m--> 130\u001b[0;31m             \u001b[0mhe\u001b[0m \u001b[0;34m=\u001b[0m \u001b[0mDeck\u001b[0m\u001b[0;34m(\u001b[0m\u001b[0;34m)\u001b[0m\u001b[0;34m\u001b[0m\u001b[0;34m\u001b[0m\u001b[0m\n\u001b[0m\u001b[1;32m    131\u001b[0m             \u001b[0;31m# shuffle the deck\u001b[0m\u001b[0;34m\u001b[0m\u001b[0;34m\u001b[0m\u001b[0;34m\u001b[0m\u001b[0m\n\u001b[1;32m    132\u001b[0m             \u001b[0mhe\u001b[0m\u001b[0;34m.\u001b[0m\u001b[0mshuffle\u001b[0m\u001b[0;34m(\u001b[0m\u001b[0;34m)\u001b[0m\u001b[0;34m\u001b[0m\u001b[0;34m\u001b[0m\u001b[0m\n",
      "\u001b[0;31mNameError\u001b[0m: name 'Deck' is not defined"
     ]
    }
   ],
   "source": [
    "\n",
    "\n",
    "\n",
    "\n",
    "\n",
    "\n",
    "class Blackjack:\n",
    "        \n",
    "        \n",
    "        def check_blackjack(self, tally):\n",
    "            if tally == 21:\n",
    "                return True\n",
    "            else:\n",
    "                return False\n",
    "            \n",
    "        #player method\n",
    "        def player_turn(player_sum, player_hand, deck, bal, mon):\n",
    "            if player_hand.check_bust():\n",
    "                print(\"Your hand: \",player_hand)\n",
    "                print('Sorry, you busted. You lose!')\n",
    "                w = open('bets.txt', 'w')\n",
    "                w.write(str(int(bal) - int(mon)))\n",
    "                w.close()\n",
    "            player_answer = input('Would you like to hit or stay?')\n",
    "            while player_answer.lower() != 'stay':\n",
    "                player_hand.add_card()\n",
    "                if player_hand.check_bust():\n",
    "                    print(\"Your hand: \",player_hand)\n",
    "                    print('Sorry, you busted. You lose!')\n",
    "                    w = open('bets.txt', 'w')\n",
    "                    w.write(str(int(bal) - int(mon)))\n",
    "                    w.close()\n",
    "                    return True\n",
    "                else:\n",
    "                    player_sum = player_hand.get_tally()\n",
    "                    print(\"Your hand: \",player_hand)\n",
    "                    player_answer = input('Would you like to hit or stay?')\n",
    "            return False\n",
    "            \n",
    "        \n",
    "        #computer method\n",
    "        def computer_turn(deck, computer_hand, comp_sum, bal, mon):\n",
    "            if comp_sum > 21:\n",
    "                print('The computer busted. You win!')\n",
    "                l = open('bets.txt', 'w')\n",
    "                l.write(str(int(bal) + 2*int(mon)))\n",
    "                l.close()\n",
    "                return True\n",
    "            elif comp_sum == 21:\n",
    "                print('Blackjack! You lose!')\n",
    "                l = open('bets.txt', 'w')\n",
    "                l.write(str(int(bal) - int(mon)))\n",
    "                l.close()\n",
    "                return True\n",
    "            else:\n",
    "                while comp_sum < 17:\n",
    "                    computer_hand.add_card()\n",
    "                    if computer_hand.check_bust():\n",
    "                        print(\"Computer's hand:\",computer_hand)\n",
    "                        print('The computer busted. You win!')\n",
    "                        w = open('bets.txt', 'w')\n",
    "                        w.write(str(int(bal) + 2*int(mon)))\n",
    "                        w.close()\n",
    "                        return True\n",
    "                    else:\n",
    "                        print(\"Computer's hand:\",computer_hand)\n",
    "                        comp_sum = computer_hand.get_tally()\n",
    "                return False\n",
    "        \n",
    "        def find_winner(player_hand, computer_hand, bal, mon):\n",
    "            if player_hand.get_tally() > computer_hand.get_tally() and player_hand.get_tally() == 21:\n",
    "                print('Blackjack! You win!')\n",
    "                f = open('bets.txt', 'w')\n",
    "                f.write(str(int(bal) + 2*int(mon)))\n",
    "                f.close()\n",
    "            if player_hand.get_tally() > computer_hand.get_tally() and player_hand.get_tally() != 21:\n",
    "                print('You win!')\n",
    "                e = open('bets.txt', 'w')\n",
    "                e.write(str(int(bal) + 2*int(mon)))\n",
    "                e.close()\n",
    "            if player_hand.get_tally() < computer_hand.get_tally() and computer_hand.get_tally() == 21:\n",
    "                print('Blackjack! You lose!')\n",
    "                b = open('bets.txt', 'w')\n",
    "                b.write(str(int(bal) - int(mon)))\n",
    "                b.close()\n",
    "            if player_hand.get_tally() < computer_hand.get_tally() and computer_hand.get_tally() != 21:\n",
    "                print('You lose!')\n",
    "                w = open('bets.txt', 'w')\n",
    "                w.write(str(int(bal) - int(mon)))\n",
    "                w.close()\n",
    "            if player_hand.get_tally() == computer_hand.get_tally() and player_hand.get_tally() == 21:\n",
    "                print('Double Blackjacks! Tie!')\n",
    "            if player_hand.get_tally() == computer_hand.get_tally() and player_hand.get_tally() != 21:\n",
    "                print('Tie')\n",
    "                \n",
    "        \n",
    "                \n",
    "        \n",
    "        def main(self):\n",
    "        \n",
    "            # create a runner class\n",
    "            game = Blackjack()\n",
    "            print(\"\"\"\n",
    "\n",
    "           -------------------------------------------------\n",
    "          |   _     _            _    _            _        |\n",
    "          |  | |   | |          | |  (_)          | |       |\n",
    "          |  | |__ | | __ _  ___| | ___  __ _  ___| | __    |\n",
    "          |  | '_ \\| |/ _` |/ __| |/ / |/ _` |/ __| |/ /    |\n",
    "          |  | |_) | | (_| | (__|   <| | (_| | (__|   <     |\n",
    "          |  |_.__/|_|\\__,_|\\___|_|\\_\\ |\\__,_|\\___|_|\\_\\    |\n",
    "          |                         _/ |                    |\n",
    "          |                        |__/                     |\n",
    "           -------------------------------------------------\n",
    "            \"\"\")\n",
    "            # we will need these lists below\n",
    "            with open('bets.txt') as f:\n",
    "                n = f.readlines()\n",
    "                thabalance = n[0]\n",
    "                print('Your balance: ' + thabalance)\n",
    "            balance = input('Would you like to update your balance? Yes/No')\n",
    "            if balance.lower() == 'yes':\n",
    "                amount = input('What should your balance be?')\n",
    "                thabalance = amount\n",
    "                w = open('bets.txt', 'w')\n",
    "                w.write(amount)\n",
    "                w.close()\n",
    "            bet = input('Would you like to make a bet? Yes/No')\n",
    "            if bet.lower() == 'yes':\n",
    "                money = input('How much?')\n",
    "            else:\n",
    "                money = '0'\n",
    "            while int(money) > int(thabalance):\n",
    "                money = input('You cannot bet that amount. Please reenter a bet.')\n",
    "            # create a deck object \n",
    "            he = Deck()\n",
    "            # shuffle the deck\n",
    "            he.shuffle()\n",
    "            # initialize a player_sum and comp_sum to zero\n",
    "            player_sum = 0\n",
    "            comp_sum = 0\n",
    "            # deal the first four cards (alternating player/comp/player/comp)\n",
    "            player_hand = Hand()\n",
    "            computer_hand = Hand()\n",
    "            player_hand.add_card()\n",
    "            computer_hand.add_card()\n",
    "            player_hand.add_card()\n",
    "            computer_hand.add_card()\n",
    "            comp_sum = computer_hand.get_tally()\n",
    "            player_sum = player_hand.get_tally()\n",
    "            # let the player take their turn (meaning they can choose more cards until they choose to stop or bust)\n",
    "            print(\"Your hand: \",player_hand)\n",
    "            if Blackjack.player_turn(player_sum, player_hand, he, thabalance, money):\n",
    "                return\n",
    "            else:\n",
    "                print(\"Computer's hand:\",computer_hand)\n",
    "                if Blackjack.computer_turn(he, computer_hand, comp_sum, thabalance, money):\n",
    "                    return\n",
    "                else:\n",
    "                # calculate who the winner is\n",
    "                    Blackjack.find_winner(player_hand, computer_hand, thabalance, money)\n",
    "    \n",
    "# run the main program\n",
    "if __name__ == '__main__':\n",
    "    Blackjack().main()\n"
   ]
  },
  {
   "cell_type": "markdown",
   "metadata": {
    "collapsed": false
   },
   "source": [
    "### Adding Features to your Game\n",
    "\n",
    "Based on the [gameplay video](https://www.youtube.com/watch?v=0-XIjDr33Mo) think of some features not mentioned above that you could add to your game to make it more like a real game of Blackjack.  Some ideas include:\n",
    "\n",
    "- In real Blackjack, the value of an ace can be chosen to have a value of 1 or 11, depending on what is optimal. Edit your program so that aces have this flexibility.\n",
    "\n",
    "- Implement the option to bet on your hand against the dealer (computer)\n",
    "\n",
    "- Have the option of multiple players\n",
    "\n",
    "- Add a cool ASCII splash screen to the start of your game\n",
    "\n",
    "- Instead of printing the cards as \"Four of Hearts\" create an image or ASCII art for each card or use the Unicode symbol for the suits, e.g.: `print(\"\\U0001F0B3\") # three of hearts!`\n",
    "\n",
    "- Implement the ability to \"split a hand\" if you get dealt the same value card for your first two cards\n",
    "\n",
    "- Other gameplay ideas of your choosing.\n",
    "\n",
    "DOCUMENT THESE EXTRA FEATURES HERE FOR BONUS POINTS:\n",
    "\n",
    "    1. Unicode Cards\n",
    "    2. Player can bet\n",
    "    3. Updating balance\n",
    "    4. Splash Screen"
   ]
  },
  {
   "cell_type": "code",
   "execution_count": 8,
   "metadata": {
    "collapsed": false
   },
   "outputs": [
    {
     "name": "stdout",
     "output_type": "stream",
     "text": [
      "🃍\n"
     ]
    }
   ],
   "source": [
    "print('\\U0001F0CD')"
   ]
  },
  {
   "cell_type": "code",
   "execution_count": 9,
   "metadata": {
    "collapsed": false
   },
   "outputs": [
    {
     "name": "stdout",
     "output_type": "stream",
     "text": [
      "🃙\n"
     ]
    }
   ],
   "source": [
    "print('\\U0001F0D9')"
   ]
  },
  {
   "cell_type": "code",
   "execution_count": 10,
   "metadata": {
    "collapsed": false
   },
   "outputs": [
    {
     "name": "stdout",
     "output_type": "stream",
     "text": [
      "10\n"
     ]
    }
   ],
   "source": [
    "f = {\"Ace\": 'A', \"Two\": '2', 'Three': '3', \"Four\": '4', 'Five': '5', \"Six\": '6', 'Seven': '7', \"Eight\": '8', 'Nine': '9', 'Ten': '10', 'Jack': '10', 'Queen': 'Q', 'King': 'K'}\n",
    "print(f['Ten'])"
   ]
  },
  {
   "cell_type": "code",
   "execution_count": 0,
   "metadata": {
    "collapsed": false
   },
   "outputs": [
   ],
   "source": [
   ]
  }
 ],
 "metadata": {
  "kernelspec": {
   "display_name": "Python 3 (system-wide)",
   "language": "python",
   "metadata": {
    "cocalc": {
     "description": "Python 3 programming language",
     "priority": 100,
     "url": "https://www.python.org/"
    }
   },
   "name": "python3",
   "resource_dir": "/ext/jupyter/kernels/python3"
  },
  "language_info": {
   "codemirror_mode": {
    "name": "ipython",
    "version": 3
   },
   "file_extension": ".py",
   "mimetype": "text/x-python",
   "name": "python",
   "nbconvert_exporter": "python",
   "pygments_lexer": "ipython3",
   "version": "3.8.10"
  },
  "toc": {
   "base_numbering": 1,
   "nav_menu": {
   },
   "number_sections": false,
   "sideBar": true,
   "skip_h1_title": false,
   "title_cell": "Table of Contents",
   "title_sidebar": "Contents",
   "toc_cell": false,
   "toc_position": {
   },
   "toc_section_display": true,
   "toc_window_display": false
  }
 },
 "nbformat": 4,
 "nbformat_minor": 4
}